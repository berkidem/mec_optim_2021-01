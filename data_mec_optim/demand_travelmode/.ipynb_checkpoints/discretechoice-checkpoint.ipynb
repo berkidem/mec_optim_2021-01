{
 "cells": [
  {
   "cell_type": "markdown",
   "metadata": {},
   "source": [
    "# Lecture 10"
   ]
  },
  {
   "cell_type": "markdown",
   "metadata": {},
   "source": [
    "The data is taken from Greene and Hensher (1997). 210 individuals are surveyed about their choice of travel mode between Sydney, Canberra and Melbourne, and the various costs (time and money) associated with each alternative. Therefore there are 840 = 4 x 210 observations, which we can stack into `travelmodedataset` a 3 dimensional array whose dimensions are mode,individual,dummy for choice+covariates."
   ]
  },
  {
   "cell_type": "code",
   "execution_count": 1,
   "metadata": {},
   "outputs": [
    {
     "data": {
      "text/html": [
       "<table>\n",
       "<thead><tr><th scope=col>individual</th><th scope=col>mode</th><th scope=col>choice</th><th scope=col>wait</th><th scope=col>vcost</th><th scope=col>travel</th><th scope=col>gcost</th><th scope=col>income</th><th scope=col>size</th></tr></thead>\n",
       "<tbody>\n",
       "\t<tr><td>  1  </td><td>air  </td><td>no   </td><td>69   </td><td> 59  </td><td> 100 </td><td> 70  </td><td>35   </td><td>1    </td></tr>\n",
       "\t<tr><td>  1  </td><td>train</td><td>no   </td><td>34   </td><td> 31  </td><td> 372 </td><td> 71  </td><td>35   </td><td>1    </td></tr>\n",
       "\t<tr><td>  1  </td><td>bus  </td><td>no   </td><td>35   </td><td> 25  </td><td> 417 </td><td> 70  </td><td>35   </td><td>1    </td></tr>\n",
       "\t<tr><td>  1  </td><td>car  </td><td>yes  </td><td> 0   </td><td> 10  </td><td> 180 </td><td> 30  </td><td>35   </td><td>1    </td></tr>\n",
       "\t<tr><td>  2  </td><td>air  </td><td>no   </td><td>64   </td><td> 58  </td><td>  68 </td><td> 68  </td><td>30   </td><td>2    </td></tr>\n",
       "\t<tr><td>  2  </td><td>train</td><td>no   </td><td>44   </td><td> 31  </td><td> 354 </td><td> 84  </td><td>30   </td><td>2    </td></tr>\n",
       "</tbody>\n",
       "</table>\n"
      ],
      "text/latex": [
       "\\begin{tabular}{lllllllll}\n",
       " individual & mode & choice & wait & vcost & travel & gcost & income & size\\\\\n",
       "\\hline\n",
       "\t   1   & air   & no    & 69    &  59   &  100  &  70   & 35    & 1    \\\\\n",
       "\t   1   & train & no    & 34    &  31   &  372  &  71   & 35    & 1    \\\\\n",
       "\t   1   & bus   & no    & 35    &  25   &  417  &  70   & 35    & 1    \\\\\n",
       "\t   1   & car   & yes   &  0    &  10   &  180  &  30   & 35    & 1    \\\\\n",
       "\t   2   & air   & no    & 64    &  58   &   68  &  68   & 30    & 2    \\\\\n",
       "\t   2   & train & no    & 44    &  31   &  354  &  84   & 30    & 2    \\\\\n",
       "\\end{tabular}\n"
      ],
      "text/markdown": [
       "\n",
       "| individual | mode | choice | wait | vcost | travel | gcost | income | size |\n",
       "|---|---|---|---|---|---|---|---|---|\n",
       "|   1   | air   | no    | 69    |  59   |  100  |  70   | 35    | 1     |\n",
       "|   1   | train | no    | 34    |  31   |  372  |  71   | 35    | 1     |\n",
       "|   1   | bus   | no    | 35    |  25   |  417  |  70   | 35    | 1     |\n",
       "|   1   | car   | yes   |  0    |  10   |  180  |  30   | 35    | 1     |\n",
       "|   2   | air   | no    | 64    |  58   |   68  |  68   | 30    | 2     |\n",
       "|   2   | train | no    | 44    |  31   |  354  |  84   | 30    | 2     |\n",
       "\n"
      ],
      "text/plain": [
       "     individual mode  choice wait vcost travel gcost income size\n",
       "[1,]   1        air   no     69    59    100    70   35     1   \n",
       "[2,]   1        train no     34    31    372    71   35     1   \n",
       "[3,]   1        bus   no     35    25    417    70   35     1   \n",
       "[4,]   1        car   yes     0    10    180    30   35     1   \n",
       "[5,]   2        air   no     64    58     68    68   30     2   \n",
       "[6,]   2        train no     44    31    354    84   30     2   "
      ]
     },
     "metadata": {},
     "output_type": "display_data"
    }
   ],
   "source": [
    "thePath = getwd()\n",
    "travelmodedataset = as.matrix(read.csv(paste0(thePath,\"/travelmodedata.csv\"),sep=\",\", header=TRUE)) # loads the data\n",
    "head(travelmodedataset)"
   ]
  },
  {
   "cell_type": "code",
   "execution_count": 2,
   "metadata": {},
   "outputs": [],
   "source": [
    "# Convert strings to categorical variables\n",
    "convertmode = Vectorize ( \n",
    "  function(inputtxt) { \n",
    "    if (inputtxt == \"air\") {\n",
    "      return(1) \n",
    "      }\n",
    "    if (inputtxt == \"train\") {\n",
    "      return(2)\n",
    "      }\n",
    "    if (inputtxt == \"bus\") {\n",
    "      return(3)\n",
    "      }\n",
    "    if (inputtxt == \"car\") {\n",
    "      return(4)\n",
    "      }\n",
    "  }\n",
    ")\n",
    "convertchoice = function(x) (ifelse(x==\"no\",0,1))\n",
    "travelmodedataset[,2] = convertmode(travelmodedataset[,2])\n",
    "travelmodedataset[,3] = convertchoice(travelmodedataset[,3])\n",
    "\n",
    "# Useful things\n",
    "nobs = dim(travelmodedataset)[1]\n",
    "nind = nobs / 4\n",
    "ncols =  dim(travelmodedataset)[2]\n",
    "travelmodedataset = array(as.numeric(travelmodedataset),dim = c(4,nind,ncols))\n",
    "choices = travelmodedataset[,,3]"
   ]
  },
  {
   "cell_type": "markdown",
   "metadata": {},
   "source": [
    "First, we compute the unconditional market shares:"
   ]
  },
  {
   "cell_type": "code",
   "execution_count": 3,
   "metadata": {},
   "outputs": [
    {
     "name": "stdout",
     "output_type": "stream",
     "text": [
      "[1] \"Market shares:\"\n",
      "      air     train       bus       car \n",
      "0.2761905 0.3000000 0.1428571 0.2809524 \n"
     ]
    }
   ],
   "source": [
    "s = apply(X = choices,FUN = mean, MARGIN = 1)\n",
    "names(s)=c(\"air\",\"train\",\"bus\",\"car\")\n",
    "print(\"Market shares:\")\n",
    "print(s)"
   ]
  },
  {
   "cell_type": "markdown",
   "metadata": {},
   "source": [
    "Define \"car\" as the default alternative. The utilities in the logit model are obtained by the log-odds ratio formula:"
   ]
  },
  {
   "cell_type": "code",
   "execution_count": 4,
   "metadata": {},
   "outputs": [
    {
     "name": "stdout",
     "output_type": "stream",
     "text": [
      "[1] \"Systematic utilities (logit):\"\n",
      "        air       train         bus         car \n",
      "-0.01709443  0.06559728 -0.67634006  0.00000000 \n"
     ]
    }
   ],
   "source": [
    "Ulogit = log(s[1:4]/s[4])\n",
    "print(\"Systematic utilities (logit):\")\n",
    "print(Ulogit)"
   ]
  },
  {
   "cell_type": "markdown",
   "metadata": {},
   "source": [
    "Now compute these utilities using a nested logit model with two nests, \"noncar\" and \"car\", and taking $\\lambda=0.5$ in both nests. Do:"
   ]
  },
  {
   "cell_type": "code",
   "execution_count": 5,
   "metadata": {},
   "outputs": [
    {
     "name": "stdout",
     "output_type": "stream",
     "text": [
      "[1] \"Systematic utilities (nested logit):\"\n",
      "      air     train       bus       car \n",
      "0.4613240 0.5026698 0.1317012 0.0000000 \n",
      "[1] \"Choice probabilities within nocar nest (predicted vs observed):\"\n",
      "      air     train       bus \n",
      "0.3841060 0.4172185 0.1986755 \n",
      "      air     train       bus \n",
      "0.3841060 0.4172185 0.1986755 \n",
      "[1] \"Choice probabilities of car nest (predicted vs observed):\"\n",
      "[1] 0.2809524\n",
      "[1] 0.2809524\n"
     ]
    }
   ],
   "source": [
    "lambda = c(1/2,1/2)\n",
    "\n",
    "Unocar = lambda[1]*log(s[1:3])+(1-lambda[1]) * log(sum(s[1:3]))\n",
    "Ucar = lambda[2]*log(s[4])+(1-lambda[2]) * log(sum(s[4]))\n",
    "Unested = c(Unocar,Ucar ) - Ucar\n",
    "print(\"Systematic utilities (nested logit):\")\n",
    "print(Unested)\n",
    "\n",
    "print(\"Choice probabilities within nocar nest (predicted vs observed):\")\n",
    "print( exp(Unested[1:3]/lambda[1]) / sum(exp(Unested[1:3]/lambda[1])))\n",
    "print(s[1:3]/sum(s[1:3]))\n",
    "\n",
    "print(\"Choice probabilities of car nest (predicted vs observed):\")\n",
    "print( 1 / (sum(exp(Unested[1:3]/lambda[1]))^lambda[1]+1) )\n",
    "print(unname(s[4]))"
   ]
  },
  {
   "cell_type": "code",
   "execution_count": null,
   "metadata": {},
   "outputs": [],
   "source": []
  }
 ],
 "metadata": {
  "kernelspec": {
   "display_name": "R",
   "language": "R",
   "name": "ir"
  },
  "language_info": {
   "codemirror_mode": "r",
   "file_extension": ".r",
   "mimetype": "text/x-r-source",
   "name": "R",
   "pygments_lexer": "r",
   "version": "3.5.2"
  }
 },
 "nbformat": 4,
 "nbformat_minor": 2
}
