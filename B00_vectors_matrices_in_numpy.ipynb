{
 "cells": [
  {
   "cell_type": "markdown",
   "metadata": {},
   "source": [
    "# <center>Block 0: Vectors and matrices in numPy</center>\n",
    "### <center>Alfred Galichon (NYU)</center>\n",
    "## <center>`math+econ+code' masterclass on optimal transport and economic applications</center>\n",
    "<center>© 2018-2020 by Alfred Galichon. Support from NSF grant DMS-1716489 is acknowledged.</center>\n",
    "\n",
    "#### <center>With R code examples</center>"
   ]
  },
  {
   "cell_type": "markdown",
   "metadata": {},
   "source": [
    "## Vectors and matrices in numPy\n",
    "* Unlike R or Matlab, Python has no built-in matrix algebra nterface. Fortunately, the numPy library provides powerful matrix capabilities, on par with R or Matlab. Here is a quick introduction to vectorization, operations on vectors and matrices, higher-dimensional arrays, Kronecker products and sparse matrices, etc. in numPy.\n",
    "\n",
    "* This is *not* a tutorial on Python itself. They are plenty good ones available on the web.\n"
   ]
  },
  {
   "cell_type": "markdown",
   "metadata": {},
   "source": [
    "## Vectorization and memory order\n",
    "\n",
    "* Matrices in all mathematical softwares are represented in a *vectorized* way as a sequence of numbers in the computers memory. This representation can involve either stacking the lines, or stacking the columns.\n",
    "\n",
    "* Different programming languages can use either of the two stacking conventions:\n",
    "    + Stacking the lines (Row-major order) is used by C, and is the default convention for for Python (Numpy).\n",
    "    + Stacking the columns (Column-major order) is used by Fortran, Matlab, R, and most underlying core linear algebra libraries (like BLAS). A $2\\times2$ matrix $A$ is then vectorized as $\\left(  A_{11},A_{21},A_{12},A_{22}\\right)$. Thus, we shall remember that R represents matrices by **varying the first index first**."
   ]
  },
  {
   "cell_type": "markdown",
   "metadata": {},
   "source": [
    "First, we load numPy:"
   ]
  },
  {
   "cell_type": "code",
   "execution_count": 3,
   "metadata": {},
   "outputs": [],
   "source": [
    "import numpy as np"
   ]
  },
  {
   "cell_type": "code",
   "execution_count": 6,
   "metadata": {},
   "outputs": [
    {
     "data": {
      "text/plain": [
       "array([[11, 12],\n",
       "       [21, 22],\n",
       "       [31, 32]])"
      ]
     },
     "execution_count": 6,
     "metadata": {},
     "output_type": "execute_result"
    }
   ],
   "source": [
    "a = np.array([[11,12],[21,22],[31,32]])\n",
    "a"
   ]
  },
  {
   "cell_type": "code",
   "execution_count": 7,
   "metadata": {},
   "outputs": [
    {
     "data": {
      "text/plain": [
       "(3, 2)"
      ]
     },
     "execution_count": 7,
     "metadata": {},
     "output_type": "execute_result"
    }
   ],
   "source": [
    "a.shape"
   ]
  },
  {
   "cell_type": "markdown",
   "metadata": {},
   "source": [
    "In order to reshape the vector matrix `a`, one modifies its `shape` attribute. The following reshapes the matrix `a` into a row vector. "
   ]
  },
  {
   "cell_type": "code",
   "execution_count": 21,
   "metadata": {},
   "outputs": [
    {
     "data": {
      "text/plain": [
       "array([[11, 12, 21, 22, 31, 32]])"
      ]
     },
     "execution_count": 21,
     "metadata": {},
     "output_type": "execute_result"
    }
   ],
   "source": [
    "    a.shape = 1,6\n",
    "a"
   ]
  },
  {
   "cell_type": "markdown",
   "metadata": {},
   "source": [
    "The previous output evidences the fact that Python uses the row-major order: rows are stacked one after the other. \n",
    "To reshape the vector into a column vector, do:"
   ]
  },
  {
   "cell_type": "code",
   "execution_count": 22,
   "metadata": {},
   "outputs": [
    {
     "data": {
      "text/plain": [
       "array([[11],\n",
       "       [12],\n",
       "       [21],\n",
       "       [22],\n",
       "       [31],\n",
       "       [32]])"
      ]
     },
     "execution_count": 22,
     "metadata": {},
     "output_type": "execute_result"
    }
   ],
   "source": [
    "a.shape = 6,1\n",
    "a"
   ]
  },
  {
   "cell_type": "markdown",
   "metadata": {},
   "source": [
    "Equivalently, one could have set `tst.shape=6,-1`, where Python would replace `-1` in `tst.shape=1,-1` by the integer needed for the formula to make sense (in this case, `1`). \n",
    "Another way to reshape is to use the method `reshape,` which returns a duplicate of the object with the requested shape."
   ]
  },
  {
   "cell_type": "code",
   "execution_count": 26,
   "metadata": {},
   "outputs": [
    {
     "name": "stdout",
     "output_type": "stream",
     "text": [
      "[0 1 2 3 4 5]\n",
      "[[0 1]\n",
      " [2 3]\n",
      " [4 5]]\n"
     ]
    }
   ],
   "source": [
    "a1=np.array(range(6))\n",
    "a2 = a1.reshape(3,2)\n",
    "print(a1)\n",
    "print(a2)"
   ]
  },
  {
   "cell_type": "markdown",
   "metadata": {},
   "source": [
    "Note that numPy also supports the column-major order, but you have to specifically ask for it, by passing the optional argument `order='F'`, where 'F' for Fortran."
   ]
  },
  {
   "cell_type": "code",
   "execution_count": 27,
   "metadata": {},
   "outputs": [
    {
     "data": {
      "text/plain": [
       "array([[0, 3],\n",
       "       [1, 4],\n",
       "       [2, 5]])"
      ]
     },
     "execution_count": 27,
     "metadata": {},
     "output_type": "execute_result"
    }
   ],
   "source": [
    "a3 = np.array(range(6)).reshape(3,2, order='F')\n",
    "a3"
   ]
  }
 ],
 "metadata": {
  "kernelspec": {
   "display_name": "Python 3",
   "language": "python",
   "name": "python3"
  },
  "language_info": {
   "codemirror_mode": {
    "name": "ipython",
    "version": 3
   },
   "file_extension": ".py",
   "mimetype": "text/x-python",
   "name": "python",
   "nbconvert_exporter": "python",
   "pygments_lexer": "ipython3",
   "version": "3.7.1"
  }
 },
 "nbformat": 4,
 "nbformat_minor": 2
}
